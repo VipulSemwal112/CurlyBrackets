{
 "cells": [
  {
   "cell_type": "code",
   "execution_count": 92,
   "id": "33ea1537",
   "metadata": {},
   "outputs": [],
   "source": [
    "import pandas as pd\n",
    "import random\n"
   ]
  },
  {
   "cell_type": "code",
   "execution_count": 169,
   "id": "2be94b9c",
   "metadata": {},
   "outputs": [
    {
     "data": {
      "text/html": [
       "<div>\n",
       "<style scoped>\n",
       "    .dataframe tbody tr th:only-of-type {\n",
       "        vertical-align: middle;\n",
       "    }\n",
       "\n",
       "    .dataframe tbody tr th {\n",
       "        vertical-align: top;\n",
       "    }\n",
       "\n",
       "    .dataframe thead th {\n",
       "        text-align: right;\n",
       "    }\n",
       "</style>\n",
       "<table border=\"1\" class=\"dataframe\">\n",
       "  <thead>\n",
       "    <tr style=\"text-align: right;\">\n",
       "      <th></th>\n",
       "      <th>Snippet_path</th>\n",
       "    </tr>\n",
       "  </thead>\n",
       "  <tbody>\n",
       "    <tr>\n",
       "      <th>0</th>\n",
       "      <td>./snippets/Final/ArraySum(WIC).png</td>\n",
       "    </tr>\n",
       "    <tr>\n",
       "      <th>1</th>\n",
       "      <td>./snippets/Final/BubbleSort(WOC).png</td>\n",
       "    </tr>\n",
       "    <tr>\n",
       "      <th>2</th>\n",
       "      <td>./snippets/Final/NumberCheck(CNL).png</td>\n",
       "    </tr>\n",
       "    <tr>\n",
       "      <th>3</th>\n",
       "      <td>./snippets/Final/ContainsSubstring(WIC).png</td>\n",
       "    </tr>\n",
       "    <tr>\n",
       "      <th>4</th>\n",
       "      <td>./snippets/Final/Power(WOC).png</td>\n",
       "    </tr>\n",
       "    <tr>\n",
       "      <th>5</th>\n",
       "      <td>./snippets/Final/BinaryConversion(CNL).png</td>\n",
       "    </tr>\n",
       "    <tr>\n",
       "      <th>6</th>\n",
       "      <td>./snippets/Final/Multiply3x3Matrix(WIC).png</td>\n",
       "    </tr>\n",
       "    <tr>\n",
       "      <th>7</th>\n",
       "      <td>./snippets/Final/PrimeNumber(WOC).png</td>\n",
       "    </tr>\n",
       "    <tr>\n",
       "      <th>8</th>\n",
       "      <td>./snippets/Final/ArryaSum(WOC).png</td>\n",
       "    </tr>\n",
       "    <tr>\n",
       "      <th>9</th>\n",
       "      <td>./snippets/Final/BubbleSort(CNL).png</td>\n",
       "    </tr>\n",
       "    <tr>\n",
       "      <th>10</th>\n",
       "      <td>./snippets/Final/NumberCheck(WIC).png</td>\n",
       "    </tr>\n",
       "    <tr>\n",
       "      <th>11</th>\n",
       "      <td>./snippets/Final/ContainsSubstring(WOC).png</td>\n",
       "    </tr>\n",
       "    <tr>\n",
       "      <th>12</th>\n",
       "      <td>./snippets/Final/Power(CNL).png</td>\n",
       "    </tr>\n",
       "    <tr>\n",
       "      <th>13</th>\n",
       "      <td>./snippets/Final/BinaryConversion(WIC).png</td>\n",
       "    </tr>\n",
       "    <tr>\n",
       "      <th>14</th>\n",
       "      <td>./snippets/Final/Multiply3x3Matrix(WOC).png</td>\n",
       "    </tr>\n",
       "    <tr>\n",
       "      <th>15</th>\n",
       "      <td>./snippets/Final/PrimeNumber(CNL).png</td>\n",
       "    </tr>\n",
       "    <tr>\n",
       "      <th>16</th>\n",
       "      <td>./snippets/Final/ArraySum(CNL).png</td>\n",
       "    </tr>\n",
       "    <tr>\n",
       "      <th>17</th>\n",
       "      <td>./snippets/Final/BubbleSort(WIC).png</td>\n",
       "    </tr>\n",
       "    <tr>\n",
       "      <th>18</th>\n",
       "      <td>./snippets/Final/NumberCheck(WOC).png</td>\n",
       "    </tr>\n",
       "    <tr>\n",
       "      <th>19</th>\n",
       "      <td>./snippets/Final/ContainsSubstring(CNL).png</td>\n",
       "    </tr>\n",
       "    <tr>\n",
       "      <th>20</th>\n",
       "      <td>./snippets/Final/Power(WIC).png</td>\n",
       "    </tr>\n",
       "    <tr>\n",
       "      <th>21</th>\n",
       "      <td>./snippets/Final/BinaryConversion(WOC).png</td>\n",
       "    </tr>\n",
       "    <tr>\n",
       "      <th>22</th>\n",
       "      <td>./snippets/Final/Multiply3x3Matrix(CNL).png</td>\n",
       "    </tr>\n",
       "    <tr>\n",
       "      <th>23</th>\n",
       "      <td>./snippets/Final/PrimeNumber(WIC).png</td>\n",
       "    </tr>\n",
       "  </tbody>\n",
       "</table>\n",
       "</div>"
      ],
      "text/plain": [
       "                                   Snippet_path\n",
       "0            ./snippets/Final/ArraySum(WIC).png\n",
       "1          ./snippets/Final/BubbleSort(WOC).png\n",
       "2         ./snippets/Final/NumberCheck(CNL).png\n",
       "3   ./snippets/Final/ContainsSubstring(WIC).png\n",
       "4               ./snippets/Final/Power(WOC).png\n",
       "5    ./snippets/Final/BinaryConversion(CNL).png\n",
       "6   ./snippets/Final/Multiply3x3Matrix(WIC).png\n",
       "7         ./snippets/Final/PrimeNumber(WOC).png\n",
       "8            ./snippets/Final/ArryaSum(WOC).png\n",
       "9          ./snippets/Final/BubbleSort(CNL).png\n",
       "10        ./snippets/Final/NumberCheck(WIC).png\n",
       "11  ./snippets/Final/ContainsSubstring(WOC).png\n",
       "12              ./snippets/Final/Power(CNL).png\n",
       "13   ./snippets/Final/BinaryConversion(WIC).png\n",
       "14  ./snippets/Final/Multiply3x3Matrix(WOC).png\n",
       "15        ./snippets/Final/PrimeNumber(CNL).png\n",
       "16           ./snippets/Final/ArraySum(CNL).png\n",
       "17         ./snippets/Final/BubbleSort(WIC).png\n",
       "18        ./snippets/Final/NumberCheck(WOC).png\n",
       "19  ./snippets/Final/ContainsSubstring(CNL).png\n",
       "20              ./snippets/Final/Power(WIC).png\n",
       "21   ./snippets/Final/BinaryConversion(WOC).png\n",
       "22  ./snippets/Final/Multiply3x3Matrix(CNL).png\n",
       "23        ./snippets/Final/PrimeNumber(WIC).png"
      ]
     },
     "execution_count": 169,
     "metadata": {},
     "output_type": "execute_result"
    }
   ],
   "source": [
    "df=pd.read_csv(\"./snippets/Final/Snippets_project.csv\")\n",
    "df"
   ]
  },
  {
   "cell_type": "code",
   "execution_count": 170,
   "id": "5a6fcc9c",
   "metadata": {},
   "outputs": [],
   "source": [
    "list1=df['Snippet_path'][0:8]\n",
    "list2=df['Snippet_path'][8:16]\n",
    "list3=df['Snippet_path'][16:24]"
   ]
  },
  {
   "cell_type": "code",
   "execution_count": 171,
   "id": "e9f2f4f9",
   "metadata": {},
   "outputs": [],
   "source": [
    "list2.reset_index(inplace=True,drop=True)"
   ]
  },
  {
   "cell_type": "code",
   "execution_count": 172,
   "id": "610fa490",
   "metadata": {},
   "outputs": [],
   "source": [
    "list3.reset_index(inplace=True,drop=True)"
   ]
  },
  {
   "cell_type": "code",
   "execution_count": 173,
   "id": "e3af4dd1",
   "metadata": {},
   "outputs": [],
   "source": [
    "import random\n",
    "\n",
    "number_list = [list1,list2,list3]\n",
    "# random item from list\n",
    "test =random.choice(number_list)\n",
    "# Output 222"
   ]
  },
  {
   "cell_type": "code",
   "execution_count": 174,
   "id": "80a38052",
   "metadata": {},
   "outputs": [
    {
     "data": {
      "text/plain": [
       "0             ./snippets/Final/ArraySum(WIC).png\n",
       "1           ./snippets/Final/BubbleSort(WOC).png\n",
       "2          ./snippets/Final/NumberCheck(CNL).png\n",
       "3    ./snippets/Final/ContainsSubstring(WIC).png\n",
       "4                ./snippets/Final/Power(WOC).png\n",
       "5     ./snippets/Final/BinaryConversion(CNL).png\n",
       "6    ./snippets/Final/Multiply3x3Matrix(WIC).png\n",
       "7          ./snippets/Final/PrimeNumber(WOC).png\n",
       "Name: Snippet_path, dtype: object"
      ]
     },
     "execution_count": 174,
     "metadata": {},
     "output_type": "execute_result"
    }
   ],
   "source": [
    "test"
   ]
  },
  {
   "cell_type": "code",
   "execution_count": 145,
   "id": "a2272983",
   "metadata": {},
   "outputs": [],
   "source": [
    "index = [0,1,2,3,4,5,6,7]"
   ]
  },
  {
   "cell_type": "code",
   "execution_count": 149,
   "id": "97e7d031",
   "metadata": {},
   "outputs": [],
   "source": [
    "current_index = index.pop(0)"
   ]
  },
  {
   "cell_type": "code",
   "execution_count": 150,
   "id": "0b68b064",
   "metadata": {},
   "outputs": [
    {
     "name": "stdout",
     "output_type": "stream",
     "text": [
      "C:\\Users\\abhin\\Documents\\Vipul Project\\snippets\\Final\\BubbleSort(WOC).png\n"
     ]
    }
   ],
   "source": [
    "print (test[current_index])"
   ]
  },
  {
   "cell_type": "code",
   "execution_count": 151,
   "id": "581be289",
   "metadata": {},
   "outputs": [
    {
     "data": {
      "text/plain": [
       "1"
      ]
     },
     "execution_count": 151,
     "metadata": {},
     "output_type": "execute_result"
    }
   ],
   "source": [
    "current_index"
   ]
  },
  {
   "cell_type": "code",
   "execution_count": 199,
   "id": "91d98999",
   "metadata": {},
   "outputs": [],
   "source": [
    "df2=pd.read_csv(\"./snippets/Final/responses.csv\")"
   ]
  },
  {
   "cell_type": "code",
   "execution_count": 200,
   "id": "4b87efb6",
   "metadata": {},
   "outputs": [
    {
     "data": {
      "text/html": [
       "<div>\n",
       "<style scoped>\n",
       "    .dataframe tbody tr th:only-of-type {\n",
       "        vertical-align: middle;\n",
       "    }\n",
       "\n",
       "    .dataframe tbody tr th {\n",
       "        vertical-align: top;\n",
       "    }\n",
       "\n",
       "    .dataframe thead th {\n",
       "        text-align: right;\n",
       "    }\n",
       "</style>\n",
       "<table border=\"1\" class=\"dataframe\">\n",
       "  <thead>\n",
       "    <tr style=\"text-align: right;\">\n",
       "      <th></th>\n",
       "      <th>Response_path</th>\n",
       "    </tr>\n",
       "  </thead>\n",
       "  <tbody>\n",
       "    <tr>\n",
       "      <th>0</th>\n",
       "      <td>./snippets/Final/reponse.png</td>\n",
       "    </tr>\n",
       "    <tr>\n",
       "      <th>1</th>\n",
       "      <td>./snippets/Final/reponse.png</td>\n",
       "    </tr>\n",
       "    <tr>\n",
       "      <th>2</th>\n",
       "      <td>./snippets/Final/EVenorOdd.png</td>\n",
       "    </tr>\n",
       "    <tr>\n",
       "      <th>3</th>\n",
       "      <td>./snippets/Final/TrueorFalse.png</td>\n",
       "    </tr>\n",
       "    <tr>\n",
       "      <th>4</th>\n",
       "      <td>./snippets/Final/reponse.png</td>\n",
       "    </tr>\n",
       "    <tr>\n",
       "      <th>5</th>\n",
       "      <td>./snippets/Final/reponse.png</td>\n",
       "    </tr>\n",
       "    <tr>\n",
       "      <th>6</th>\n",
       "      <td>./snippets/Final/reponse.png</td>\n",
       "    </tr>\n",
       "    <tr>\n",
       "      <th>7</th>\n",
       "      <td>./snippets/Final/Primenotprime.png</td>\n",
       "    </tr>\n",
       "    <tr>\n",
       "      <th>8</th>\n",
       "      <td>./snippets/Final/reponse.png</td>\n",
       "    </tr>\n",
       "    <tr>\n",
       "      <th>9</th>\n",
       "      <td>./snippets/Final/reponse.png</td>\n",
       "    </tr>\n",
       "    <tr>\n",
       "      <th>10</th>\n",
       "      <td>./snippets/Final/EVenorOdd.png</td>\n",
       "    </tr>\n",
       "    <tr>\n",
       "      <th>11</th>\n",
       "      <td>./snippets/Final/TrueorFalse.png</td>\n",
       "    </tr>\n",
       "    <tr>\n",
       "      <th>12</th>\n",
       "      <td>./snippets/Final/reponse.png</td>\n",
       "    </tr>\n",
       "    <tr>\n",
       "      <th>13</th>\n",
       "      <td>./snippets/Final/reponse.png</td>\n",
       "    </tr>\n",
       "    <tr>\n",
       "      <th>14</th>\n",
       "      <td>./snippets/Final/reponse.png</td>\n",
       "    </tr>\n",
       "    <tr>\n",
       "      <th>15</th>\n",
       "      <td>./snippets/Final/Primenotprime.png</td>\n",
       "    </tr>\n",
       "    <tr>\n",
       "      <th>16</th>\n",
       "      <td>./snippets/Final/reponse.png</td>\n",
       "    </tr>\n",
       "    <tr>\n",
       "      <th>17</th>\n",
       "      <td>./snippets/Final/reponse.png</td>\n",
       "    </tr>\n",
       "    <tr>\n",
       "      <th>18</th>\n",
       "      <td>./snippets/Final/EVenorOdd.png</td>\n",
       "    </tr>\n",
       "    <tr>\n",
       "      <th>19</th>\n",
       "      <td>./snippets/Final/TrueorFalse.png</td>\n",
       "    </tr>\n",
       "    <tr>\n",
       "      <th>20</th>\n",
       "      <td>./snippets/Final/reponse.png</td>\n",
       "    </tr>\n",
       "    <tr>\n",
       "      <th>21</th>\n",
       "      <td>./snippets/Final/reponse.png</td>\n",
       "    </tr>\n",
       "    <tr>\n",
       "      <th>22</th>\n",
       "      <td>./snippets/Final/reponse.png</td>\n",
       "    </tr>\n",
       "    <tr>\n",
       "      <th>23</th>\n",
       "      <td>./snippets/Final/Primenotprime.png</td>\n",
       "    </tr>\n",
       "  </tbody>\n",
       "</table>\n",
       "</div>"
      ],
      "text/plain": [
       "                         Response_path\n",
       "0         ./snippets/Final/reponse.png\n",
       "1         ./snippets/Final/reponse.png\n",
       "2       ./snippets/Final/EVenorOdd.png\n",
       "3     ./snippets/Final/TrueorFalse.png\n",
       "4         ./snippets/Final/reponse.png\n",
       "5         ./snippets/Final/reponse.png\n",
       "6         ./snippets/Final/reponse.png\n",
       "7   ./snippets/Final/Primenotprime.png\n",
       "8         ./snippets/Final/reponse.png\n",
       "9         ./snippets/Final/reponse.png\n",
       "10      ./snippets/Final/EVenorOdd.png\n",
       "11    ./snippets/Final/TrueorFalse.png\n",
       "12        ./snippets/Final/reponse.png\n",
       "13        ./snippets/Final/reponse.png\n",
       "14        ./snippets/Final/reponse.png\n",
       "15  ./snippets/Final/Primenotprime.png\n",
       "16        ./snippets/Final/reponse.png\n",
       "17        ./snippets/Final/reponse.png\n",
       "18      ./snippets/Final/EVenorOdd.png\n",
       "19    ./snippets/Final/TrueorFalse.png\n",
       "20        ./snippets/Final/reponse.png\n",
       "21        ./snippets/Final/reponse.png\n",
       "22        ./snippets/Final/reponse.png\n",
       "23  ./snippets/Final/Primenotprime.png"
      ]
     },
     "execution_count": 200,
     "metadata": {},
     "output_type": "execute_result"
    }
   ],
   "source": [
    "df2"
   ]
  },
  {
   "cell_type": "code",
   "execution_count": 188,
   "id": "a987dcb5",
   "metadata": {},
   "outputs": [],
   "source": [
    "list4=df2['Reponse_path'][0:8]\n",
    "list5=df2['Reponse_path'][8:16]\n",
    "list6=df2['Reponse_path'][16:24]"
   ]
  },
  {
   "cell_type": "code",
   "execution_count": 189,
   "id": "ad235171",
   "metadata": {},
   "outputs": [],
   "source": [
    "list5.reset_index(inplace=True,drop=True)\n",
    "list6.reset_index(inplace=True,drop=True)"
   ]
  },
  {
   "cell_type": "code",
   "execution_count": 190,
   "id": "1fb46370",
   "metadata": {},
   "outputs": [],
   "source": [
    "All_list1 = [list4,list5,list6]"
   ]
  },
  {
   "cell_type": "code",
   "execution_count": 191,
   "id": "b5528854",
   "metadata": {},
   "outputs": [],
   "source": [
    "x_sub, y_sub = zip(random.choice(list(zip(number_list, All_list1))))"
   ]
  },
  {
   "cell_type": "code",
   "execution_count": 192,
   "id": "b856d677",
   "metadata": {},
   "outputs": [
    {
     "data": {
      "text/plain": [
       "(0             ./snippets/Final/ArraySum(CNL).png\n",
       " 1           ./snippets/Final/BubbleSort(WIC).png\n",
       " 2          ./snippets/Final/NumberCheck(WOC).png\n",
       " 3    ./snippets/Final/ContainsSubstring(CNL).png\n",
       " 4                ./snippets/Final/Power(WIC).png\n",
       " 5     ./snippets/Final/BinaryConversion(WOC).png\n",
       " 6    ./snippets/Final/Multiply3x3Matrix(CNL).png\n",
       " 7          ./snippets/Final/PrimeNumber(WIC).png\n",
       " Name: Snippet_path, dtype: object,)"
      ]
     },
     "execution_count": 192,
     "metadata": {},
     "output_type": "execute_result"
    }
   ],
   "source": [
    "x_sub"
   ]
  },
  {
   "cell_type": "code",
   "execution_count": 193,
   "id": "3b4ef609",
   "metadata": {},
   "outputs": [
    {
     "data": {
      "text/plain": [
       "(0            ./snippets/Final/reponse.png\n",
       " 1            ./snippets/Final/reponse.png\n",
       " 2        ./snippets/Final/EVen or Odd.png\n",
       " 3      ./snippets/Final/True or False.png\n",
       " 4            ./snippets/Final/reponse.png\n",
       " 5            ./snippets/Final/reponse.png\n",
       " 6            ./snippets/Final/reponse.png\n",
       " 7    ./snippets/Final/Prime not prime.png\n",
       " Name: Reponse_path, dtype: object,)"
      ]
     },
     "execution_count": 193,
     "metadata": {},
     "output_type": "execute_result"
    }
   ],
   "source": [
    "y_sub"
   ]
  },
  {
   "cell_type": "code",
   "execution_count": 194,
   "id": "92c47845",
   "metadata": {},
   "outputs": [],
   "source": [
    "test, response = zip(random.choice(list(zip(number_list, All_list1))))"
   ]
  },
  {
   "cell_type": "code",
   "execution_count": 195,
   "id": "13d3dd79",
   "metadata": {},
   "outputs": [
    {
     "data": {
      "text/plain": [
       "(0             ./snippets/Final/ArryaSum(WOC).png\n",
       " 1           ./snippets/Final/BubbleSort(CNL).png\n",
       " 2          ./snippets/Final/NumberCheck(WIC).png\n",
       " 3    ./snippets/Final/ContainsSubstring(WOC).png\n",
       " 4                ./snippets/Final/Power(CNL).png\n",
       " 5     ./snippets/Final/BinaryConversion(WIC).png\n",
       " 6    ./snippets/Final/Multiply3x3Matrix(WOC).png\n",
       " 7          ./snippets/Final/PrimeNumber(CNL).png\n",
       " Name: Snippet_path, dtype: object,)"
      ]
     },
     "execution_count": 195,
     "metadata": {},
     "output_type": "execute_result"
    }
   ],
   "source": [
    "test"
   ]
  },
  {
   "cell_type": "code",
   "execution_count": 196,
   "id": "e490b332",
   "metadata": {},
   "outputs": [
    {
     "data": {
      "text/plain": [
       "(0            ./snippets/Final/reponse.png\n",
       " 1            ./snippets/Final/reponse.png\n",
       " 2        ./snippets/Final/EVen or Odd.png\n",
       " 3      ./snippets/Final/True or False.png\n",
       " 4            ./snippets/Final/reponse.png\n",
       " 5            ./snippets/Final/reponse.png\n",
       " 6            ./snippets/Final/reponse.png\n",
       " 7    ./snippets/Final/Prime not prime.png\n",
       " Name: Reponse_path, dtype: object,)"
      ]
     },
     "execution_count": 196,
     "metadata": {},
     "output_type": "execute_result"
    }
   ],
   "source": [
    "response"
   ]
  },
  {
   "cell_type": "code",
   "execution_count": 201,
   "id": "deb63ab9",
   "metadata": {},
   "outputs": [],
   "source": [
    "import random\n",
    "\n",
    "x = list(range(1, 10))\n",
    "y = list(\"abcdefghij\")\n",
    "m = 3\n",
    "\n",
    "x_sub, y_sub = zip(*random.sample(list(zip(x, y)), m))"
   ]
  },
  {
   "cell_type": "code",
   "execution_count": 202,
   "id": "c1211780",
   "metadata": {},
   "outputs": [
    {
     "data": {
      "text/plain": [
       "(1, 4, 6)"
      ]
     },
     "execution_count": 202,
     "metadata": {},
     "output_type": "execute_result"
    }
   ],
   "source": []
  },
  {
   "cell_type": "code",
   "execution_count": null,
   "id": "527918ec",
   "metadata": {},
   "outputs": [],
   "source": []
  }
 ],
 "metadata": {
  "kernelspec": {
   "display_name": "Python 3",
   "language": "python",
   "name": "python3"
  },
  "language_info": {
   "codemirror_mode": {
    "name": "ipython",
    "version": 3
   },
   "file_extension": ".py",
   "mimetype": "text/x-python",
   "name": "python",
   "nbconvert_exporter": "python",
   "pygments_lexer": "ipython3",
   "version": "3.8.8"
  }
 },
 "nbformat": 4,
 "nbformat_minor": 5
}
