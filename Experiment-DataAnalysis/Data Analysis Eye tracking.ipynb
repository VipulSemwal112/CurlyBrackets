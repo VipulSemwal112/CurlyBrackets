{
 "cells": [
  {
   "cell_type": "code",
   "execution_count": 1,
   "metadata": {},
   "outputs": [
    {
     "data": {
      "text/html": [
       "<div>\n",
       "<style scoped>\n",
       "    .dataframe tbody tr th:only-of-type {\n",
       "        vertical-align: middle;\n",
       "    }\n",
       "\n",
       "    .dataframe tbody tr th {\n",
       "        vertical-align: top;\n",
       "    }\n",
       "\n",
       "    .dataframe thead th {\n",
       "        text-align: right;\n",
       "    }\n",
       "</style>\n",
       "<table border=\"1\" class=\"dataframe\">\n",
       "  <thead>\n",
       "    <tr style=\"text-align: right;\">\n",
       "      <th></th>\n",
       "      <th>l_valid</th>\n",
       "      <th>r_valid</th>\n",
       "      <th>time</th>\n",
       "      <th>l_diameter</th>\n",
       "      <th>r_diameter</th>\n",
       "      <th>l_display_x</th>\n",
       "      <th>l_display_y</th>\n",
       "      <th>r_display_x</th>\n",
       "      <th>r_display_y</th>\n",
       "    </tr>\n",
       "  </thead>\n",
       "  <tbody>\n",
       "    <tr>\n",
       "      <th>0</th>\n",
       "      <td>0</td>\n",
       "      <td>0</td>\n",
       "      <td>1810414829</td>\n",
       "      <td>NaN</td>\n",
       "      <td>NaN</td>\n",
       "      <td>0.0</td>\n",
       "      <td>0.0</td>\n",
       "      <td>0.0</td>\n",
       "      <td>0.0</td>\n",
       "    </tr>\n",
       "    <tr>\n",
       "      <th>1</th>\n",
       "      <td>0</td>\n",
       "      <td>0</td>\n",
       "      <td>1810423159</td>\n",
       "      <td>NaN</td>\n",
       "      <td>NaN</td>\n",
       "      <td>0.0</td>\n",
       "      <td>0.0</td>\n",
       "      <td>0.0</td>\n",
       "      <td>0.0</td>\n",
       "    </tr>\n",
       "    <tr>\n",
       "      <th>2</th>\n",
       "      <td>1</td>\n",
       "      <td>1</td>\n",
       "      <td>1810431517</td>\n",
       "      <td>3.783936</td>\n",
       "      <td>3.968201</td>\n",
       "      <td>677.0</td>\n",
       "      <td>530.0</td>\n",
       "      <td>674.0</td>\n",
       "      <td>522.0</td>\n",
       "    </tr>\n",
       "    <tr>\n",
       "      <th>3</th>\n",
       "      <td>1</td>\n",
       "      <td>1</td>\n",
       "      <td>1810439841</td>\n",
       "      <td>NaN</td>\n",
       "      <td>NaN</td>\n",
       "      <td>675.0</td>\n",
       "      <td>519.0</td>\n",
       "      <td>670.0</td>\n",
       "      <td>520.0</td>\n",
       "    </tr>\n",
       "    <tr>\n",
       "      <th>4</th>\n",
       "      <td>1</td>\n",
       "      <td>1</td>\n",
       "      <td>1810448159</td>\n",
       "      <td>NaN</td>\n",
       "      <td>NaN</td>\n",
       "      <td>679.0</td>\n",
       "      <td>525.0</td>\n",
       "      <td>668.0</td>\n",
       "      <td>533.0</td>\n",
       "    </tr>\n",
       "  </tbody>\n",
       "</table>\n",
       "</div>"
      ],
      "text/plain": [
       "   l_valid  r_valid        time  l_diameter  r_diameter  l_display_x  \\\n",
       "0        0        0  1810414829         NaN         NaN          0.0   \n",
       "1        0        0  1810423159         NaN         NaN          0.0   \n",
       "2        1        1  1810431517    3.783936    3.968201        677.0   \n",
       "3        1        1  1810439841         NaN         NaN        675.0   \n",
       "4        1        1  1810448159         NaN         NaN        679.0   \n",
       "\n",
       "   l_display_y  r_display_x  r_display_y  \n",
       "0          0.0          0.0          0.0  \n",
       "1          0.0          0.0          0.0  \n",
       "2        530.0        674.0        522.0  \n",
       "3        519.0        670.0        520.0  \n",
       "4        525.0        668.0        533.0  "
      ]
     },
     "execution_count": 1,
     "metadata": {},
     "output_type": "execute_result"
    }
   ],
   "source": [
    "'''import all the required modules'''\n",
    "\n",
    "import os\n",
    "import pandas as pd\n",
    "import regex as re\n",
    "from tqdm.notebook import tqdm\n",
    "import PIL\n",
    "import PIL.Image\n",
    "import matplotlib\n",
    "import matplotlib.pyplot as plt\n",
    "import math\n",
    "import numpy as np\n",
    "from scipy.ndimage.filters import gaussian_filter\n",
    "from tqdm.notebook import tqdm\n",
    "%matplotlib inline\n",
    "\n",
    "'Newfolder created with particpent name'\n",
    "session_number = \"001\"\n",
    "participant_name =\"user2\"\n",
    "root_path = './'\n",
    "os.chdir(root_path)\n",
    "folders = ['{}_heatmap'.format(participant_name), '{}_fixations'.format(participant_name), '{}_scanpath'.format(participant_name)]\n",
    "\n",
    "for folder in folders:\n",
    "    os.mkdir(os.path.join(root_path, folder))\n",
    "\n",
    "#'Newfolder created with particpent name'\n",
    "#path='./'\n",
    "#os.chdir(path)\n",
    "#Newfolder=participant_name\n",
    "#os.makedirs(Newfolder,exist_ok=True)\n",
    "\n",
    "'''resolution of the screen , device where eye tracking test takes place'''\n",
    "\n",
    "screen_width = 1920\n",
    "screen_height = 1080\n",
    "\n",
    "''' df_eyetracking - - - Contains participants's eye tracking data.\n",
    "    l_valid        - - - left_gaze_point_validity.\n",
    "    r_valid        - - - right_gaze_point_validity.\n",
    "    l_display      - - - left_gaze_point_on_display_area. \n",
    "    r_display      - - - right_gaze_point_on_display_area.\n",
    "    time           - - - system_time_stamp.\n",
    "    l_diameter     - - - left_pupil_diameter.\n",
    "    r_diameter     - - - right_pupil_diameter.\n",
    "    \n",
    "    df_answers     - - - Contains answers given by participant.\n",
    "    df_cutting     - - - Contains time spent on each images. '''\n",
    "\n",
    "df_eyetracking = pd.read_csv(\"./data/eye_tracking_data_\" + session_number + \" _ \" + participant_name + \".csv\", sep=\";\")\n",
    "df_eyetracking.columns = [\"l_valid\", \"r_valid\", \"l_display\", \"r_display\", \"time\", \"l_diameter\", \"r_diameter\"]\n",
    "df_answers = pd.read_csv(\"./data/study_answers_\" + session_number + \" _ \" + participant_name + \".csv\")\n",
    "df_answers = df_answers.iloc[:, 1:]\n",
    "df_cutting = pd.read_csv(\"./data/study_cutting_data_\" + session_number + \" _ \" + participant_name + \".csv\")\n",
    "df_cutting = df_cutting.iloc[:, 1:]\n",
    "\n",
    "\n",
    "df_eyetracking[\"l_display_x\"] = df_eyetracking[\"l_display\"].apply(lambda row: int(float(re.findall(\"\\d+\\.\\d+\", row)[0])*screen_width) if len(re.findall(\"\\d+\\.\\d+\", row)) == 2 else 0.0)\n",
    "df_eyetracking[\"l_display_y\"] = df_eyetracking[\"l_display\"].apply(lambda row: int(float(re.findall(\"\\d+\\.\\d+\", row)[1])*screen_height) if len(re.findall(\"\\d+\\.\\d+\", row)) == 2 else 0.0)\n",
    "df_eyetracking[\"r_display_x\"] = df_eyetracking[\"r_display\"].apply(lambda row: int(float(re.findall(\"\\d+\\.\\d+\", row)[0])*screen_width) if len(re.findall(\"\\d+\\.\\d+\", row)) == 2 else 0.0)\n",
    "df_eyetracking[\"r_display_y\"] = df_eyetracking[\"r_display\"].apply(lambda row: int(float(re.findall(\"\\d+\\.\\d+\", row)[1])*screen_height) if len(re.findall(\"\\d+\\.\\d+\", row)) == 2 else 0.0)\n",
    "\n",
    "df_eyetracking = df_eyetracking.drop(\"l_display\", axis=1)\n",
    "df_eyetracking = df_eyetracking.drop(\"r_display\", axis=1)\n",
    "df_eyetracking.head()"
   ]
  },
  {
   "cell_type": "code",
   "execution_count": 2,
   "metadata": {},
   "outputs": [
    {
     "name": "stdout",
     "output_type": "stream",
     "text": [
      "1810414829\n"
     ]
    },
    {
     "data": {
      "text/plain": [
       "0           0.000000\n",
       "1           0.008330\n",
       "2           0.016688\n",
       "3           0.025012\n",
       "4           0.033330\n",
       "             ...    \n",
       "118208    984.961164\n",
       "118209    984.969498\n",
       "118210    984.977804\n",
       "118211    984.986135\n",
       "118212    984.994501\n",
       "Name: time, Length: 118213, dtype: float64"
      ]
     },
     "execution_count": 2,
     "metadata": {},
     "output_type": "execute_result"
    }
   ],
   "source": [
    "#time conversion\n",
    "eye_start = df_eyetracking.loc[0, \"time\"]\n",
    "print (eye_start)\n",
    "df_eyetracking[\"time\"] = df_eyetracking[\"time\"] - eye_start\n",
    "df_eyetracking[\"time\"] = df_eyetracking[\"time\"] / 1000000\n",
    "time=df_eyetracking['time']\n",
    "time"
   ]
  },
  {
   "cell_type": "code",
   "execution_count": 3,
   "metadata": {},
   "outputs": [],
   "source": [
    "def fixation_detection(x_values, y_values, time, maxdist=25, mindur=0.020):\n",
    "\n",
    "    \"\"\"Detects fixations, defined as consecutive samples with an inter-sample\n",
    "    distance of less than a set amount of pixels (disregarding missing data)\n",
    "\n",
    "    arguments\n",
    "\n",
    "    x-numpy array of x positions\n",
    "    y-numpy array of y positions\n",
    "    time-numpy array of EyeTribe timestamps\n",
    "\n",
    "    keyword arguments\n",
    "\n",
    "    missing - value to be used for missing data (default = 0.0)\n",
    "    maxdist - maximal inter sample distance in pixels (default = 25)\n",
    "    mindur - minimal duration of a fixation in milliseconds; detected\n",
    "    fixation cadidates will be disregarded if they are below\n",
    "    this duration (default = 100)\n",
    "\n",
    "    returns\n",
    "    Sfix, Efix\n",
    "\n",
    "    Sfix - list of lists, each containing [starttime]\n",
    "    Efix - list of lists, each containing [starttime, endtime, duration, endx, endy]\n",
    "    \"\"\"\n",
    "\n",
    "    # empty list to contain data\n",
    "    Sfix = []\n",
    "    Efix = []\n",
    "    \n",
    "    # loop through all coordinates\n",
    "    si = 0\n",
    "    fixstart = False\n",
    "    for i in range(1,len(x_values)):\n",
    "        \n",
    "        # calculate Euclidean distance from the current fixation coordinate\n",
    "        # to the next coordinate\n",
    "        \n",
    "        squared_distance = ((x_values[si]-x_values[i])**2 + (y_values[si]-y_values[i])**2)\n",
    "        dist = 0.0\n",
    "        if squared_distance > 0:\n",
    "            dist = squared_distance**0.5\n",
    "            \n",
    "        # check if the next coordinate is below maximal distance\n",
    "        \n",
    "        if dist <= maxdist:\n",
    "            # start a new fixation\n",
    "            si = 0 + i\n",
    "            fixstart = False\n",
    "            Sfix.append([time[i]])\n",
    "        elif dist > maxdist and not fixstart:\n",
    "            \n",
    "            # end the current fixation\n",
    "            \n",
    "            fixstart = False\n",
    "            if Sfix:\n",
    "                \n",
    "\n",
    "                # only store the fixation if the duration is ok\n",
    "\n",
    "                if time[i-1]-Sfix[-1][0] >= mindur:\n",
    "                    Efix.append([Sfix[-1][0], time[i-1], time[i-1]-Sfix[-1][0], x_values[si], y_values[si]])\n",
    "\n",
    "                # delete the last fixation start if it was too short\n",
    "\n",
    "                else:\n",
    "                    Sfix.pop(-1)\n",
    "                si = 0 + i\n",
    "            else:\n",
    "                pass\n",
    "        elif not fixstart:\n",
    "            si += 1\n",
    "            \n",
    "    #add last fixation end (we can lose it if dist > maxdist is false for the last point)\n",
    "    \n",
    "        elif len(Sfix) > len(Efix):\n",
    "            Efix.append([Sfix[-1][0], time[len(x_values)-1], time[len(x_values)-1]-Sfix[-1][0], x_values[si], y_values[si]])\n",
    "        \n",
    "    return Sfix, Efix\n",
    "\n"
   ]
  },
  {
   "cell_type": "code",
   "execution_count": 4,
   "metadata": {},
   "outputs": [],
   "source": [
    "def saccade_detection(x_values, y_values, time, minlen=0.020, maxvel=20, maxacc=200):\n",
    "    \"\"\"Detects saccades, defined as consecutive samples with an inter-sample\n",
    "    velocity of over a velocity threshold or an acceleration threshold\n",
    "\n",
    "    arguments\n",
    "\n",
    "    x\t\t-\tnumpy array of x positions\n",
    "    y\t\t-\tnumpy array of y positions\n",
    "    time\t\t-\tnumpy array of tracker timestamps in milliseconds\n",
    "\n",
    "    keyword arguments\n",
    "\n",
    "    missing\t-\tvalue to be used for missing data (default = 0.0)\n",
    "    minlen\t-\tminimal length of saccades in milliseconds; all detected\n",
    "                saccades with len(sac) < minlen will be ignored\n",
    "                (default = 5)\n",
    "    maxvel\t-\tvelocity threshold in pixels/second (default = 40)\n",
    "    maxacc\t-\tacceleration threshold in pixels / second**2\n",
    "                (default = 340)\n",
    "\n",
    "    returns\n",
    "    Ssac, Esac\n",
    "            Ssac\t-\tlist of lists, each containing [starttime]\n",
    "            Esac\t-\tlist of lists, each containing [starttime, endtime, duration, startx, starty, endx, endy]\n",
    "    \"\"\"\n",
    "\n",
    "    # CONTAINERS\n",
    "    Ssac = []\n",
    "    Esac = []\n",
    "\n",
    "    # INTER-SAMPLE MEASURES\n",
    "    # the distance between samples is the square root of the sum\n",
    "    # of the squared horizontal and vertical interdistances\n",
    "    intdist = (np.diff(x_values) ** 2 + np.diff(y_values) ** 2) ** 0.5\n",
    "    # get inter-sample times\n",
    "    inttime = np.diff(time)\n",
    "    # recalculate inter-sample times to seconds\n",
    "    inttime =inttime / 1000\n",
    "\n",
    "    # VELOCITY AND ACCELERATION\n",
    "    # the velocity between samples is the inter-sample distance\n",
    "    # divided by the inter-sample time\n",
    "    vel = intdist / inttime\n",
    "    # the acceleration is the sample-to-sample difference in\n",
    "    # eye movement velocity\n",
    "    acc = np.diff(vel)\n",
    "\n",
    "    # SACCADE START AND END\n",
    "    t0i = 0\n",
    "    stop = False\n",
    "    while not stop:\n",
    "        # saccade start (t1) is when the velocity or acceleration\n",
    "        # surpass threshold, saccade end (t2) is when both return\n",
    "        # under threshold\n",
    "\n",
    "        # detect saccade starts\n",
    "        sacstarts = np.where((vel[1 + t0i:] > maxvel).astype(int) + (acc[t0i:] > maxacc).astype(int) >= 1)[0]\n",
    "        if len(sacstarts) > 0:\n",
    "            # timestamp for starting position\n",
    "            t1i = t0i + sacstarts[0] + 1\n",
    "            if t1i >= len(time) - 1:\n",
    "                t1i = len(time) - 2\n",
    "            t1 = time[t1i]\n",
    "\n",
    "            # add to saccade starts\n",
    "            Ssac.append([t1])\n",
    "\n",
    "            # detect saccade endings\n",
    "            sacends = np.where((vel[1 + t1i:] < maxvel).astype(int) + (acc[t1i:] < maxacc).astype(int) == 2)[0]\n",
    "            if len(sacends) > 0:\n",
    "                # timestamp for ending position\n",
    "                t2i = sacends[0] + 1 + t1i + 2\n",
    "                if t2i >= len(time):\n",
    "                    t2i = len(time) - 1\n",
    "                t2 = time[t2i]\n",
    "                dur = t2 - t1\n",
    "\n",
    "                # ignore saccades that did not last long enough\n",
    "                if dur >= minlen:\n",
    "                    # add to saccade ends\n",
    "                    Esac.append([t1, t2, dur, x_values[t1i], y_values[t1i], x_values[t2i], y_values[t2i]])\n",
    "                else:\n",
    "                    # remove last saccade start on too low duration\n",
    "                    Ssac.pop(-1)\n",
    "\n",
    "                # update t0i\n",
    "                t0i = 0 + t2i\n",
    "            else:\n",
    "                stop = True\n",
    "        else:\n",
    "            stop = True\n",
    "\n",
    "    return Ssac, Esac\n",
    "\n"
   ]
  },
  {
   "cell_type": "code",
   "execution_count": 5,
   "metadata": {},
   "outputs": [],
   "source": [
    "COLS = {\"butter\": ['#fce94f','#edd400','#c4a000'],\n",
    "        \"orange\": ['#fcaf3e','#f57900','#ce5c00'],\n",
    "        \"chocolate\": ['#e9b96e','#c17d11','#8f5902'],\n",
    "        \"chameleon\": ['#8ae234','#73d216','#4e9a06'],\n",
    "        \"skyblue\": ['#729fcf','#3465a4','#204a87'],\n",
    "        \"plum\": ['#ad7fa8','#75507b','#5c3566'],\n",
    "        \"scarletred\":['#ef2929','#cc0000','#a40000'],\n",
    "        \"aluminium\": ['#eeeeec','#d3d7cf','#babdb6','#888a85','#555753','#2e3436']}\n",
    "# FONT\n",
    "FONT = {'family': 'Ubuntu', 'size': 12}\n",
    "matplotlib.rc('font', **FONT)"
   ]
  },
  {
   "cell_type": "code",
   "execution_count": 6,
   "metadata": {},
   "outputs": [],
   "source": [
    "def draw_display(dispsize, imagefile=True):\n",
    "    \"\"\"Returns a matplotlib.pyplot Figure and its axes, with a size of\n",
    "    dispsize, a black background colour, and optionally with an image drawn\n",
    "    onto it\n",
    "    arguments\n",
    "    dispsize\t\t-\ttuple or list indicating the size of the display,\n",
    "                    e.g. (1024,768)\n",
    "    keyword arguments\n",
    "    imagefile\t\t-\tfull path to an image file over which the heatmap\n",
    "                    is to be laid, or None for no image; NOTE: the image\n",
    "                    may be smaller than the display size, the function\n",
    "                    assumes that the image was presented at the centre of\n",
    "                    the display (default = None)\n",
    "    returns\n",
    "    fig, ax\t\t-\tmatplotlib.pyplot Figure and its axes: field of zeros\n",
    "                    with a size of dispsize, and an image drawn onto it\n",
    "                    if an imagefile was passed\n",
    "    \"\"\"\n",
    "\n",
    "    # construct screen (black background)\n",
    "    screen = np.zeros((dispsize[1], dispsize[0], 4), dtype='float32')\n",
    "    # if an image location has been passed, draw the image\n",
    "    if imagefile != None:\n",
    "        # check if the path to the image exists\n",
    "        #if not os.path.isfile(imagefile):\n",
    "            #raise Exception(\"ERROR in draw_display: imagefile not found at '%s'\" % imagefile)\n",
    "        # load image\n",
    "        #img = image.imread(imagefile)\n",
    "        img = plt.imread(imagefile)\n",
    "        #img = PIL.Image.open(imagefile)\n",
    "\n",
    "        # width and height of the image\n",
    "        w, h = len(img[0]), len(img)\n",
    "        #w,h=img.size\n",
    "        # x and y position of the image on the display\n",
    "        x = dispsize[0] // 2 - w // 2\n",
    "        y = dispsize[1] // 2 - h // 2\n",
    "        # draw the image on the screen\n",
    "        screen[y:y + h, x:x + w, :] += img\n",
    "    # dots per inch\n",
    "    dpi = 100.0\n",
    "    # determine the figure size in inches\n",
    "    figsize = (dispsize[0] / dpi, dispsize[1] / dpi)\n",
    "    # create a figure\n",
    "    fig = plt.figure(figsize=figsize, dpi=dpi, frameon=False)\n",
    "    ax = plt.Axes(fig, [0, 0, 1, 1])\n",
    "    ax.set_axis_off()\n",
    "    fig.add_axes(ax)\n",
    "    # plot display\n",
    "    ax.axis([0, dispsize[0], 0, dispsize[1]])\n",
    "    ax.imshow(screen)  # , origin='upper')\n",
    "\n",
    "    return fig ,ax"
   ]
  },
  {
   "cell_type": "code",
   "execution_count": 7,
   "metadata": {},
   "outputs": [],
   "source": [
    "def parse_fixations(fixations):\n",
    "    \"\"\"Returns all relevant data from a list of fixation ending events\n",
    "\n",
    "    arguments\n",
    "\n",
    "    fixations\t\t-\ta list of fixation ending events from a single trial,\n",
    "                    as produced by edfreader.read_edf, e.g.\n",
    "                    edfdata[trialnr]['events']['Efix']\n",
    "\n",
    "    returns\n",
    "\n",
    "    fix\t\t-\ta dict with three keys: 'x', 'y', and 'dur' (each contain\n",
    "                a numpy array) for the x and y coordinates and duration of\n",
    "                each fixation\n",
    "    \"\"\"\n",
    "\n",
    "    # empty arrays to contain fixation coordinates\n",
    "    fix = {'x': np.zeros(len(fixations)),\n",
    "           'y': np.zeros(len(fixations)),\n",
    "           'dur': np.zeros(len(fixations))}\n",
    "    # get all fixation coordinates\n",
    "    for fixnr in range(len(fixations)):\n",
    "        stime, etime, dur, ex, ey = fixations[fixnr]\n",
    "        fix['x'][fixnr] = ex\n",
    "        fix['y'][fixnr] = ey\n",
    "        fix['dur'][fixnr] = dur\n",
    "\n",
    "    return fix\n"
   ]
  },
  {
   "cell_type": "code",
   "execution_count": 8,
   "metadata": {},
   "outputs": [],
   "source": [
    "def draw_fixations(fixations, dispsize, imagefile=True, durationsize=False, durationcolour=False, alpha=0.5,\n",
    "                   savefilename=True):\n",
    "    \n",
    "    \"\"\"Draws circles on the fixation locations, optionally on top of an image,\n",
    "    with optional weigthing of the duration for circle size and colour\n",
    "\n",
    "    arguments\n",
    "\n",
    "    fixations\t\t-\ta list of fixation ending events from a single trial,\n",
    "                    as produced by edfreader.read_edf, e.g.\n",
    "                    edfdata[trialnr]['events']['Efix']\n",
    "    dispsize\t\t-\ttuple or list indicating the size of the display,\n",
    "                    e.g. (1024,768)\n",
    "\n",
    "    keyword arguments\n",
    "\n",
    "    imagefile\t\t-\tfull path to an image file over which the heatmap\n",
    "                    is to be laid, or None for no image; NOTE: the image\n",
    "                    may be smaller than the display size, the function\n",
    "                    assumes that the image was presented at the centre of\n",
    "                    the display (default = None)\n",
    "    durationsize\t-\tBoolean indicating whether the fixation duration is\n",
    "                    to be taken into account as a weight for the circle\n",
    "                    size; longer duration = bigger (default = True)\n",
    "    durationcolour\t-\tBoolean indicating whether the fixation duration is\n",
    "                    to be taken into account as a weight for the circle\n",
    "                    colour; longer duration = hotter (default = True)\n",
    "    alpha\t\t-\tfloat between 0 and 1, indicating the transparancy of\n",
    "                    the heatmap, where 0 is completely transparant and 1\n",
    "                    is completely untransparant (default = 0.5)\n",
    "    savefilename\t-\tfull path to the file in which the heatmap should be\n",
    "                    saved, or None to not save the file (default = None)\n",
    "\n",
    "    returns\n",
    "\n",
    "    fig\t\t\t-\ta matplotlib.pyplot Figure instance, containing the\n",
    "                    fixations\n",
    "    \"\"\"\n",
    "    fig, ax = draw_display(dispsize, imagefile=imagefile)\n",
    "    for i in range(len(fixations)):\n",
    "        \n",
    "        \n",
    "       \n",
    "    # FIXATIONS\n",
    "        fix = parse_fixations([fixations[i]])\n",
    "\n",
    "    # IMAGE\n",
    "        \n",
    "\n",
    "    # CIRCLES\n",
    "    # duration weigths\n",
    "        if durationsize:\n",
    "            #siz = 1 * (fix['dur'] / 30.0)\n",
    "            siz = round(round(1 * (fix['dur'],5)) * 10000)\n",
    "        else:\n",
    "            #siz = 1 * np.median(fix['dur'] / 30.0)\n",
    "            siz = round(round(1 * np.median(fix['dur']),5) * 10000)\n",
    "            # if siz> 450.:\n",
    "                    #ax.scatter(fix['x'], fix['y'], s=siz, c=col, marker='o', cmap='jet', alpha=alpha, edgecolors='none')\n",
    "\n",
    "        if durationcolour:\n",
    "            col = fix['dur']\n",
    "        else:\n",
    "            col = COLS['chameleon'][2]\n",
    "        # draw circles\n",
    "        ax.scatter(fix['x'], fix['y'], s=siz, c=col, marker='o', cmap='jet', alpha=alpha, edgecolors='none')\n",
    "        if siz > 450:\n",
    "            ax.annotate(str(siz),(fix['x'],fix['y']),color='black', ha='center')\n",
    "\n",
    "        # FINISH PLOT\n",
    "        # invert the y axis, as (0,0) is top left on a display\n",
    "    ax.invert_yaxis()\n",
    "        # save the figure if a file name was provided\n",
    "    if savefilename != None:\n",
    "        fig.savefig(savefilename)\n",
    "\n",
    "    return fig\n"
   ]
  },
  {
   "cell_type": "code",
   "execution_count": 9,
   "metadata": {},
   "outputs": [],
   "source": [
    "def draw_scanpath(fixations, saccades, dispsize, imagefile=True, alpha=0.1, savefilename=True):\n",
    "    \n",
    "    \"\"\"Draws a scanpath: a series of arrows between numbered fixations,\n",
    "    optionally drawn over an image\n",
    "\n",
    "    arguments\n",
    "\n",
    "    fixations\t\t-\ta list of fixation ending events from a single trial,\n",
    "                    as produced by edfreader.read_edf, e.g.\n",
    "                    edfdata[trialnr]['events']['Efix']\n",
    "    saccades\t\t-\ta list of saccade ending events from a single trial,\n",
    "                    as produced by edfreader.read_edf, e.g.\n",
    "                    edfdata[trialnr]['events']['Esac']\n",
    "    dispsize\t\t-\ttuple or list indicating the size of the display,\n",
    "                    e.g. (1024,768)\n",
    "\n",
    "    keyword arguments\n",
    "\n",
    "    imagefile\t\t-\tfull path to an image file over which the heatmap\n",
    "                    is to be laid, or None for no image; NOTE: the image\n",
    "                    may be smaller than the display size, the function\n",
    "                    assumes that the image was presented at the centre of\n",
    "                    the display (default = None)\n",
    "    alpha\t\t-\tfloat between 0 and 1, indicating the transparancy of\n",
    "                    the heatmap, where 0 is completely transparant and 1\n",
    "                    is completely untransparant (default = 0.5)\n",
    "    savefilename\t-\tfull path to the file in which the heatmap should be\n",
    "                    saved, or None to not save the file (default = None)\n",
    "\n",
    "    returns\n",
    "\n",
    "    fig\t\t\t-\ta matplotlib.pyplot Figure instance, containing the\n",
    "                    heatmap\n",
    "    \"\"\"\n",
    "\n",
    "    # image\n",
    "    fig,ax  = draw_display(dispsize, imagefile=imagefile)\n",
    "    Fixt = []\n",
    "    # FIXATIONS\n",
    "    # parse fixations\n",
    "    for i in range(len(fixations)):\n",
    "        \n",
    "        fix = parse_fixations([fixations[i]])\n",
    "        Fixt.append(fix)\n",
    "        # draw fixations\n",
    "        ax.scatter(fix['x'], fix['y'], s=round(round(1 * np.median(fix['dur']),5) * 10000), c=COLS['chameleon'][2], marker='o', cmap='jet',\n",
    "                   alpha=alpha, edgecolors='none')\n",
    "        # draw annotations (fixation numbers)\n",
    "    for i in range(len(Fixt)):\n",
    "\n",
    "        ax.annotate(str(i + 1), (Fixt[i]['x'], Fixt[i]['y']), color='Red', alpha=1,\n",
    "                    horizontalalignment='center', verticalalignment='center') #multialignment='center')\n",
    "    #for j in range(len(Fixt)):\n",
    "        x_va = []\n",
    "        y_va = []\n",
    "        for i in range(len(Fixt)):\n",
    "            x_va.append(Fixt[i]['x'][0])\n",
    "            y_va.append(Fixt[i]['y'][0])\n",
    "            \n",
    "        different_x = []\n",
    "        different_y = []\n",
    "        for i in range(1,len(Fixt)):\n",
    "            a = x_va[i] - x_va[i-1]\n",
    "            b = y_va[i] - y_va[i-1]\n",
    "            different_x.append(a)\n",
    "            different_y.append(b)\n",
    "        different_x.append(0.0)\n",
    "        different_y.append(0.0)\n",
    "        for k in range(len(x_va)):\n",
    "            \n",
    "            ax.arrow(x_va[k],y_va[k],different_x[k],different_y[k],fc=COLS['aluminium'][0], ec= None, fill=True,\n",
    "                     shape='full', width=5, head_width=8,alpha=alpha, head_starts_at_zero=False, overhang=0)\n",
    "\n",
    "\n",
    "    # SACCADES\n",
    "        #if saccades:\n",
    "            #for j in range(len(saccades)):\n",
    "                \n",
    "            # loop through all saccades\n",
    "                #for st, et, dur, sx, sy, ex, ey in [saccades[j]]:\n",
    "                    # draw an arrow between every saccade start and ending\n",
    "                    #ax.arrow(sx, sy, ex - sx, ey - sy, alpha=alpha, fc=COLS['aluminium'][0], ec=COLS['aluminium'][5], fill=True,\n",
    "                             #shape='full', width=10, head_width=20, head_starts_at_zero=False, overhang=0)\n",
    "\n",
    "    # invert the y axis, as (0,0) is top left on a display\n",
    "    ax.invert_yaxis()\n",
    "    # save the figure if a file name was provided\n",
    "    if savefilename != None:\n",
    "        fig.savefig(savefilename)\n",
    "\n",
    "    return fig,Fixt"
   ]
  },
  {
   "cell_type": "code",
   "execution_count": 10,
   "metadata": {},
   "outputs": [],
   "source": [
    "def gen_heatmap(click_data, width, height, radius):\n",
    "    heatmap = np.zeros((height, width), dtype=np.int32)\n",
    "    mask = np.ones((height, width), dtype=np.int32)\n",
    "    \n",
    "    for x, y in tqdm(click_data):\n",
    "        Y, X = np.ogrid[:height, :width]\n",
    "        dist_from_center = np.sqrt((X - x)**2 + (Y-y)**2)\n",
    "        current_mask = dist_from_center < radius\n",
    "        heatmap[current_mask] = heatmap[current_mask] + mask[current_mask]\n",
    "        \n",
    "    return heatmap"
   ]
  },
  {
   "cell_type": "code",
   "execution_count": 11,
   "metadata": {},
   "outputs": [
    {
     "data": {
      "application/vnd.jupyter.widget-view+json": {
       "model_id": "70d1ed356bf246b585d4ea07e6dd5ced",
       "version_major": 2,
       "version_minor": 0
      },
      "text/plain": [
       "HBox(children=(HTML(value=''), FloatProgress(value=0.0, max=16.0), HTML(value='')))"
      ]
     },
     "metadata": {},
     "output_type": "display_data"
    },
    {
     "name": "stderr",
     "output_type": "stream",
     "text": [
      "findfont: Font family ['Ubuntu'] not found. Falling back to DejaVu Sans.\n"
     ]
    },
    {
     "data": {
      "application/vnd.jupyter.widget-view+json": {
       "model_id": "8f9eb3359c75487d85a4c2fc652a4ccb",
       "version_major": 2,
       "version_minor": 0
      },
      "text/plain": [
       "HBox(children=(HTML(value=''), FloatProgress(value=0.0, max=3963.0), HTML(value='')))"
      ]
     },
     "metadata": {},
     "output_type": "display_data"
    },
    {
     "name": "stdout",
     "output_type": "stream",
     "text": [
      "\n",
      "ArraySum(CNL).png\n"
     ]
    },
    {
     "data": {
      "application/vnd.jupyter.widget-view+json": {
       "model_id": "5b70da2f26bf43a5a2dd11770f5ac77a",
       "version_major": 2,
       "version_minor": 0
      },
      "text/plain": [
       "HBox(children=(HTML(value=''), FloatProgress(value=0.0, max=4895.0), HTML(value='')))"
      ]
     },
     "metadata": {},
     "output_type": "display_data"
    },
    {
     "name": "stdout",
     "output_type": "stream",
     "text": [
      "\n",
      "ArraySumresp(CNL).png\n"
     ]
    },
    {
     "data": {
      "application/vnd.jupyter.widget-view+json": {
       "model_id": "70f57677900848aaa4c46871a2e6ec6d",
       "version_major": 2,
       "version_minor": 0
      },
      "text/plain": [
       "HBox(children=(HTML(value=''), FloatProgress(value=0.0, max=4751.0), HTML(value='')))"
      ]
     },
     "metadata": {},
     "output_type": "display_data"
    },
    {
     "name": "stdout",
     "output_type": "stream",
     "text": [
      "\n",
      "BubbleSort(WIC).png\n"
     ]
    },
    {
     "data": {
      "application/vnd.jupyter.widget-view+json": {
       "model_id": "38c8bedba5904c2c9ea766166fb921a2",
       "version_major": 2,
       "version_minor": 0
      },
      "text/plain": [
       "HBox(children=(HTML(value=''), FloatProgress(value=0.0, max=15625.0), HTML(value='')))"
      ]
     },
     "metadata": {},
     "output_type": "display_data"
    },
    {
     "name": "stdout",
     "output_type": "stream",
     "text": [
      "\n",
      "BubbleSortresp(WIC).png\n"
     ]
    },
    {
     "data": {
      "application/vnd.jupyter.widget-view+json": {
       "model_id": "03419ab2ca76405f85ab2744a076da9e",
       "version_major": 2,
       "version_minor": 0
      },
      "text/plain": [
       "HBox(children=(HTML(value=''), FloatProgress(value=0.0, max=3387.0), HTML(value='')))"
      ]
     },
     "metadata": {},
     "output_type": "display_data"
    },
    {
     "name": "stdout",
     "output_type": "stream",
     "text": [
      "\n",
      "NumberCheck(WOC).png\n"
     ]
    },
    {
     "data": {
      "application/vnd.jupyter.widget-view+json": {
       "model_id": "91a9c88ae85d4adcaf329d34bd54fc7c",
       "version_major": 2,
       "version_minor": 0
      },
      "text/plain": [
       "HBox(children=(HTML(value=''), FloatProgress(value=0.0, max=8435.0), HTML(value='')))"
      ]
     },
     "metadata": {},
     "output_type": "display_data"
    },
    {
     "name": "stdout",
     "output_type": "stream",
     "text": [
      "\n",
      "NumberCheckresp(WOC).png\n"
     ]
    },
    {
     "data": {
      "application/vnd.jupyter.widget-view+json": {
       "model_id": "c5cbeb3b6b2546d58b59501798596d89",
       "version_major": 2,
       "version_minor": 0
      },
      "text/plain": [
       "HBox(children=(HTML(value=''), FloatProgress(value=0.0, max=5506.0), HTML(value='')))"
      ]
     },
     "metadata": {},
     "output_type": "display_data"
    },
    {
     "name": "stdout",
     "output_type": "stream",
     "text": [
      "\n",
      "ContainsSubstring(CNL).png\n"
     ]
    },
    {
     "data": {
      "application/vnd.jupyter.widget-view+json": {
       "model_id": "c4892b1d8df34c838e43bc952eee350a",
       "version_major": 2,
       "version_minor": 0
      },
      "text/plain": [
       "HBox(children=(HTML(value=''), FloatProgress(value=0.0, max=13206.0), HTML(value='')))"
      ]
     },
     "metadata": {},
     "output_type": "display_data"
    },
    {
     "name": "stdout",
     "output_type": "stream",
     "text": [
      "\n",
      "ContainsSubstringresp(CNL).png\n"
     ]
    },
    {
     "data": {
      "application/vnd.jupyter.widget-view+json": {
       "model_id": "090141e9ac05400b9f41c57039bdc2b3",
       "version_major": 2,
       "version_minor": 0
      },
      "text/plain": [
       "HBox(children=(HTML(value=''), FloatProgress(value=0.0, max=2329.0), HTML(value='')))"
      ]
     },
     "metadata": {},
     "output_type": "display_data"
    },
    {
     "name": "stdout",
     "output_type": "stream",
     "text": [
      "\n",
      "Power(WIC).png\n"
     ]
    },
    {
     "data": {
      "application/vnd.jupyter.widget-view+json": {
       "model_id": "f1eaa9186258473aae6f185f7ee58ae5",
       "version_major": 2,
       "version_minor": 0
      },
      "text/plain": [
       "HBox(children=(HTML(value=''), FloatProgress(value=0.0, max=1716.0), HTML(value='')))"
      ]
     },
     "metadata": {},
     "output_type": "display_data"
    },
    {
     "name": "stdout",
     "output_type": "stream",
     "text": [
      "\n",
      "Powerresp(WIC).png\n"
     ]
    },
    {
     "data": {
      "application/vnd.jupyter.widget-view+json": {
       "model_id": "0ec32c195ac84a0b8f67b256c762dcf2",
       "version_major": 2,
       "version_minor": 0
      },
      "text/plain": [
       "HBox(children=(HTML(value=''), FloatProgress(value=0.0, max=3976.0), HTML(value='')))"
      ]
     },
     "metadata": {},
     "output_type": "display_data"
    },
    {
     "name": "stdout",
     "output_type": "stream",
     "text": [
      "\n",
      "BinaryConversion(WOC).png\n"
     ]
    },
    {
     "data": {
      "application/vnd.jupyter.widget-view+json": {
       "model_id": "31f22826c9cc448784b55d0d815926ee",
       "version_major": 2,
       "version_minor": 0
      },
      "text/plain": [
       "HBox(children=(HTML(value=''), FloatProgress(value=0.0, max=2164.0), HTML(value='')))"
      ]
     },
     "metadata": {},
     "output_type": "display_data"
    },
    {
     "name": "stdout",
     "output_type": "stream",
     "text": [
      "\n",
      "BinaryConversionresp(WOC).png\n"
     ]
    },
    {
     "data": {
      "application/vnd.jupyter.widget-view+json": {
       "model_id": "3a2e016b8b074a97955e9db6b9faba00",
       "version_major": 2,
       "version_minor": 0
      },
      "text/plain": [
       "HBox(children=(HTML(value=''), FloatProgress(value=0.0, max=3425.0), HTML(value='')))"
      ]
     },
     "metadata": {},
     "output_type": "display_data"
    },
    {
     "name": "stdout",
     "output_type": "stream",
     "text": [
      "\n",
      "MultiplyMatrix(CNL).png\n"
     ]
    },
    {
     "data": {
      "application/vnd.jupyter.widget-view+json": {
       "model_id": "8a68fa50284a4e6ea3dbea6c773d2e36",
       "version_major": 2,
       "version_minor": 0
      },
      "text/plain": [
       "HBox(children=(HTML(value=''), FloatProgress(value=0.0, max=7743.0), HTML(value='')))"
      ]
     },
     "metadata": {},
     "output_type": "display_data"
    },
    {
     "name": "stdout",
     "output_type": "stream",
     "text": [
      "\n",
      "MultiplyMatrixresp(CNL).png\n"
     ]
    },
    {
     "data": {
      "application/vnd.jupyter.widget-view+json": {
       "model_id": "c969607d059d42c2a1f2f14d2604eb44",
       "version_major": 2,
       "version_minor": 0
      },
      "text/plain": [
       "HBox(children=(HTML(value=''), FloatProgress(value=0.0, max=4095.0), HTML(value='')))"
      ]
     },
     "metadata": {},
     "output_type": "display_data"
    },
    {
     "name": "stdout",
     "output_type": "stream",
     "text": [
      "\n",
      "PrimeNumber(WIC).png\n"
     ]
    },
    {
     "data": {
      "application/vnd.jupyter.widget-view+json": {
       "model_id": "edc56ee6f5604f8d86ba9bc2e93a1069",
       "version_major": 2,
       "version_minor": 0
      },
      "text/plain": [
       "HBox(children=(HTML(value=''), FloatProgress(value=0.0, max=5388.0), HTML(value='')))"
      ]
     },
     "metadata": {},
     "output_type": "display_data"
    },
    {
     "name": "stdout",
     "output_type": "stream",
     "text": [
      "\n",
      "PrimeNumberresp(WIC).png\n",
      "\n"
     ]
    }
   ],
   "source": [
    "\n",
    "\n",
    "\n",
    "dimension = (1080,1920)\n",
    "\n",
    "number_of_clicks = 1000\n",
    "\n",
    "time_filter=df_eyetracking[\"time\"][0]\n",
    "\n",
    "#iterating over images and thier start and end time\n",
    "#file_no = 1\n",
    "for idx, row in tqdm(df_cutting.iterrows(), total=len(df_cutting)):\n",
    "    image = row[\"ImagePath\"]\n",
    "    start_time = row[\"StartTime\"]\n",
    "    end_time = row[\"EndTime\"]\n",
    "    \n",
    "    df_tmp = df_eyetracking[(df_eyetracking[\"time\"] >= start_time) & (df_eyetracking[\"time\"] <= end_time)]\n",
    "    #print (df_tmp.head())\n",
    "    #accepting only valid values form eye tracking data\n",
    "    #print (df_tmp.head())\n",
    "    \n",
    "    x_values_l = df_tmp[(df_tmp[\"l_valid\"] == 1) & (df_tmp[\"r_valid\"] == 1)][\"l_display_x\"].values\n",
    "    y_values_l = df_tmp[(df_tmp[\"l_valid\"] == 1) & (df_tmp[\"r_valid\"] == 1)] [\"l_display_y\"].values\n",
    "\n",
    "    x_values_r = df_tmp[(df_tmp[\"l_valid\"] == 1) & (df_tmp[\"r_valid\"] == 1)][\"r_display_x\"].values\n",
    "    y_values_r = df_tmp[(df_tmp[\"l_valid\"] == 1) & (df_tmp[\"r_valid\"] == 1)][\"r_display_y\"].values\n",
    "    \n",
    "    #time=df_tmp[(df_tmp[\"l_valid\"] == 1) & (df_tmp[\"r_valid\"] == 1)]['time'].values\n",
    "    #print (time)\n",
    "    \n",
    "    df_timetemp = df_tmp[(df_tmp[\"l_valid\"] == 1) & (df_tmp[\"r_valid\"] == 1)]\n",
    "    time = df_timetemp['time'].values.tolist()\n",
    "    #print (time)\n",
    "    \n",
    "\n",
    "    #taking average of x_value_l,x_value_r\n",
    "    \n",
    "    x_values = [ int((x_l+x_r)/2.0) for (x_l, x_r) in zip(x_values_l, x_values_r)]\n",
    "    y_values = [ int((y_l+y_r)/2.0) for (y_l, y_r) in zip(y_values_l, y_values_r)]\n",
    "    imageName = image\n",
    "    algorithm_name = imageName.split(\"/\")[-1]\n",
    "    \n",
    "    \n",
    "    Sfix, Efix= fixation_detection(x_values, y_values, time, maxdist=25, mindur=0.020)\n",
    "    #print (Efix)\n",
    "    \n",
    "    fig= draw_fixations(Efix, (1920,1080), imagefile=image, durationsize=False, durationcolour=False, alpha=0.5,\n",
    "                   savefilename=\"./{}/fixations_{}\".format(folders[1],algorithm_name))\n",
    "    \n",
    "    Ssac, Esac=saccade_detection(x_values, y_values, time, minlen=0.020, maxvel=20, maxacc=300)\n",
    "    \n",
    "    #print (Esac)\n",
    "    fig,Fixt = draw_scanpath(Efix, Esac, (1920,1080), imagefile=image, alpha=0.5, \n",
    "                             savefilename=\"./{}/scanpath_{}\".format(folders[2],algorithm_name))\n",
    "    \n",
    "    \n",
    "    \n",
    "    \n",
    "    click_data = list(zip([int(x) for x in x_values], [int(y) for y in y_values]))\n",
    "    \n",
    "    #image = image.replace(\"./snippets/Final\",\"./snippets\")\n",
    "    \n",
    "    image = PIL.Image.open(imageName)\n",
    "    w, h = image.size\n",
    "    heatmap= gen_heatmap(click_data, w, h, 50)\n",
    "    \n",
    "    \n",
    "    #perform gaussian blur\n",
    "    cmap = plt.cm.get_cmap(\"jet\") \n",
    "    heatmap = gaussian_filter(heatmap, sigma=5)\n",
    "    heatmap = cmap(heatmap)\n",
    "    plt.imshow(heatmap, cmap='jet', interpolation='nearest')\n",
    "    image.resize((h, w))\n",
    "    image = np.array(image)\n",
    "    heatmap=heatmap*255\n",
    "    heatmap=heatmap.astype(int)\n",
    "    heatmap_image =0.7*image + 0.3*heatmap\n",
    "    heatmap_image = heatmap_image\n",
    "    \n",
    "    print (algorithm_name)\n",
    "    #image_name = f\"./{participant_name}/heatmap_{algorithm_name}\"\n",
    "    image_name = \"./{}/heatmap_{}.png\".format(folders[0],algorithm_name)\n",
    "    im = PIL.Image.fromarray(np.uint8(heatmap_image))\n",
    "    im.save(image_name)\n",
    "    plt.close('all')\n",
    "    #file_no = file_no + 1\n",
    "    "
   ]
  }
 ],
 "metadata": {
  "kernelspec": {
   "display_name": "Python 3",
   "language": "python",
   "name": "python3"
  },
  "language_info": {
   "codemirror_mode": {
    "name": "ipython",
    "version": 3
   },
   "file_extension": ".py",
   "mimetype": "text/x-python",
   "name": "python",
   "nbconvert_exporter": "python",
   "pygments_lexer": "ipython3",
   "version": "3.8.5"
  }
 },
 "nbformat": 4,
 "nbformat_minor": 4
}
