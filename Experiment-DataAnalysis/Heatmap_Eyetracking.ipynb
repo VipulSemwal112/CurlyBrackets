{
 "cells": [
  {
   "cell_type": "code",
   "execution_count": 5,
   "metadata": {},
   "outputs": [],
   "source": [
    "\n",
    "'''import all the required modules'''\n",
    "\n",
    "import os\n",
    "import pandas as pd\n",
    "import regex as re\n",
    "from tqdm.notebook import tqdm\n",
    "import PIL\n",
    "import PIL.Image\n",
    "import matplotlib.pyplot as plt\n",
    "import math\n",
    "import numpy as np\n",
    "from scipy.ndimage.filters import gaussian_filter\n",
    "from tqdm.notebook import tqdm\n",
    "\n",
    "session_number = \"001\"\n",
    "participant_name =\"trial8\"\n",
    "\n",
    "'Newfolder created with particpent name'\n",
    "path='./'\n",
    "os.chdir(path)\n",
    "Newfolder=participant_name\n",
    "os.makedirs(Newfolder,exist_ok=True)\n",
    "\n",
    "'''resolution of the screen , device where eye tracking test takes place'''\n",
    "\n",
    "screen_width = 1920\n",
    "screen_height = 1080\n",
    "\n",
    "''' df_eyetracking - - - Contains participants's eye tracking data.\n",
    "    l_valid        - - - left_gaze_point_validity.\n",
    "    r_valid        - - - right_gaze_point_validity.\n",
    "    l_display      - - - left_gaze_point_on_display_area. \n",
    "    r_display      - - - right_gaze_point_on_display_area.\n",
    "    time           - - - system_time_stamp.\n",
    "    l_diameter     - - - left_pupil_diameter.\n",
    "    r_diameter     - - - right_pupil_diameter.\n",
    "    \n",
    "    df_answers     - - - Contains answers given by participant.\n",
    "    df_cutting     - - - Contains time spent on each images. '''\n",
    "\n",
    "df_eyetracking = pd.read_csv(\"./data/eye_tracking_data_\" + session_number + \" _ \" + participant_name + \".csv\", sep=\";\")\n",
    "df_eyetracking.columns = [\"l_valid\", \"r_valid\", \"l_display\", \"r_display\", \"time\", \"l_diameter\", \"r_diameter\"]\n",
    "df_answers = pd.read_csv(\"./data/study_answers_\" + session_number + \" _ \" + participant_name + \".csv\")\n",
    "df_answers = df_answers.iloc[:, 1:]\n",
    "df_cutting = pd.read_csv(\"./data/study_cutting_data_\" + session_number + \" _ \" + participant_name + \".csv\")\n",
    "df_cutting = df_cutting.iloc[:, 1:]\n",
    "\n",
    "\n",
    "df_eyetracking[\"l_display_x\"] = df_eyetracking[\"l_display\"].apply(lambda row: int(float(re.findall(\"\\d+\\.\\d+\", row)[0])*screen_width) if len(re.findall(\"\\d+\\.\\d+\", row)) == 2 else 0.0)\n",
    "df_eyetracking[\"l_display_y\"] = df_eyetracking[\"l_display\"].apply(lambda row: int(float(re.findall(\"\\d+\\.\\d+\", row)[1])*screen_height) if len(re.findall(\"\\d+\\.\\d+\", row)) == 2 else 0.0)\n",
    "df_eyetracking[\"r_display_x\"] = df_eyetracking[\"r_display\"].apply(lambda row: int(float(re.findall(\"\\d+\\.\\d+\", row)[0])*screen_width) if len(re.findall(\"\\d+\\.\\d+\", row)) == 2 else 0.0)\n",
    "df_eyetracking[\"r_display_y\"] = df_eyetracking[\"r_display\"].apply(lambda row: int(float(re.findall(\"\\d+\\.\\d+\", row)[1])*screen_height) if len(re.findall(\"\\d+\\.\\d+\", row)) == 2 else 0.0)\n",
    "\n",
    "df_eyetracking = df_eyetracking.drop(\"l_display\", axis=1)\n",
    "df_eyetracking = df_eyetracking.drop(\"r_display\", axis=1)\n",
    "\n"
   ]
  },
  {
   "cell_type": "code",
   "execution_count": 6,
   "metadata": {},
   "outputs": [],
   "source": [
    "#time conversion\n",
    "eye_start = df_eyetracking.loc[0, \"time\"]\n",
    "df_eyetracking[\"time\"] = df_eyetracking[\"time\"] - eye_start\n",
    "df_eyetracking[\"time\"] = df_eyetracking[\"time\"] / 1000000"
   ]
  },
  {
   "cell_type": "code",
   "execution_count": 7,
   "metadata": {},
   "outputs": [
    {
     "data": {
      "application/vnd.jupyter.widget-view+json": {
       "model_id": "e32cab5329504c6eae1db254a287f775",
       "version_major": 2,
       "version_minor": 0
      },
      "text/plain": [
       "HBox(children=(HTML(value=''), FloatProgress(value=0.0, max=16.0), HTML(value='')))"
      ]
     },
     "metadata": {},
     "output_type": "display_data"
    },
    {
     "data": {
      "application/vnd.jupyter.widget-view+json": {
       "model_id": "356c9f47f7014b53a4d8b176ce355e3d",
       "version_major": 2,
       "version_minor": 0
      },
      "text/plain": [
       "HBox(children=(HTML(value=''), FloatProgress(value=0.0, max=1698.0), HTML(value='')))"
      ]
     },
     "metadata": {},
     "output_type": "display_data"
    },
    {
     "name": "stdout",
     "output_type": "stream",
     "text": [
      "\n"
     ]
    },
    {
     "data": {
      "application/vnd.jupyter.widget-view+json": {
       "model_id": "82896c6a72b645879f88b83057961102",
       "version_major": 2,
       "version_minor": 0
      },
      "text/plain": [
       "HBox(children=(HTML(value=''), FloatProgress(value=0.0, max=2065.0), HTML(value='')))"
      ]
     },
     "metadata": {},
     "output_type": "display_data"
    },
    {
     "name": "stdout",
     "output_type": "stream",
     "text": [
      "\n"
     ]
    },
    {
     "data": {
      "application/vnd.jupyter.widget-view+json": {
       "model_id": "b02cc02b30e44f408214ca2f9074dcb6",
       "version_major": 2,
       "version_minor": 0
      },
      "text/plain": [
       "HBox(children=(HTML(value=''), FloatProgress(value=0.0, max=2423.0), HTML(value='')))"
      ]
     },
     "metadata": {},
     "output_type": "display_data"
    },
    {
     "name": "stdout",
     "output_type": "stream",
     "text": [
      "\n"
     ]
    },
    {
     "data": {
      "application/vnd.jupyter.widget-view+json": {
       "model_id": "5d542e1d16de43fab87f690b04804faf",
       "version_major": 2,
       "version_minor": 0
      },
      "text/plain": [
       "HBox(children=(HTML(value=''), FloatProgress(value=0.0, max=10956.0), HTML(value='')))"
      ]
     },
     "metadata": {},
     "output_type": "display_data"
    },
    {
     "name": "stdout",
     "output_type": "stream",
     "text": [
      "\n"
     ]
    },
    {
     "data": {
      "application/vnd.jupyter.widget-view+json": {
       "model_id": "dbd48714b6fe4eea97a49302c3b59c3e",
       "version_major": 2,
       "version_minor": 0
      },
      "text/plain": [
       "HBox(children=(HTML(value=''), FloatProgress(value=0.0, max=1142.0), HTML(value='')))"
      ]
     },
     "metadata": {},
     "output_type": "display_data"
    },
    {
     "name": "stdout",
     "output_type": "stream",
     "text": [
      "\n"
     ]
    },
    {
     "data": {
      "application/vnd.jupyter.widget-view+json": {
       "model_id": "b10e98389ff74d98850b8ca251f3932c",
       "version_major": 2,
       "version_minor": 0
      },
      "text/plain": [
       "HBox(children=(HTML(value=''), FloatProgress(value=0.0, max=3030.0), HTML(value='')))"
      ]
     },
     "metadata": {},
     "output_type": "display_data"
    },
    {
     "name": "stdout",
     "output_type": "stream",
     "text": [
      "\n"
     ]
    },
    {
     "data": {
      "application/vnd.jupyter.widget-view+json": {
       "model_id": "a0fc1355384e4183a730df9a5600225b",
       "version_major": 2,
       "version_minor": 0
      },
      "text/plain": [
       "HBox(children=(HTML(value=''), FloatProgress(value=0.0, max=2322.0), HTML(value='')))"
      ]
     },
     "metadata": {},
     "output_type": "display_data"
    },
    {
     "name": "stdout",
     "output_type": "stream",
     "text": [
      "\n"
     ]
    },
    {
     "data": {
      "application/vnd.jupyter.widget-view+json": {
       "model_id": "4b8166e6d2294eaaa62969c812858c6a",
       "version_major": 2,
       "version_minor": 0
      },
      "text/plain": [
       "HBox(children=(HTML(value=''), FloatProgress(value=0.0, max=1177.0), HTML(value='')))"
      ]
     },
     "metadata": {},
     "output_type": "display_data"
    },
    {
     "name": "stdout",
     "output_type": "stream",
     "text": [
      "\n"
     ]
    },
    {
     "data": {
      "application/vnd.jupyter.widget-view+json": {
       "model_id": "bc4a7259044242deaa7c8e13af260a42",
       "version_major": 2,
       "version_minor": 0
      },
      "text/plain": [
       "HBox(children=(HTML(value=''), FloatProgress(value=0.0, max=1017.0), HTML(value='')))"
      ]
     },
     "metadata": {},
     "output_type": "display_data"
    },
    {
     "name": "stdout",
     "output_type": "stream",
     "text": [
      "\n"
     ]
    },
    {
     "data": {
      "application/vnd.jupyter.widget-view+json": {
       "model_id": "322086bb757a4607a1ee5dc0cd7b9dac",
       "version_major": 2,
       "version_minor": 0
      },
      "text/plain": [
       "HBox(children=(HTML(value=''), FloatProgress(value=0.0, max=1920.0), HTML(value='')))"
      ]
     },
     "metadata": {},
     "output_type": "display_data"
    },
    {
     "name": "stdout",
     "output_type": "stream",
     "text": [
      "\n"
     ]
    },
    {
     "data": {
      "application/vnd.jupyter.widget-view+json": {
       "model_id": "58b119469110454c97d0dfba77c6ef43",
       "version_major": 2,
       "version_minor": 0
      },
      "text/plain": [
       "HBox(children=(HTML(value=''), FloatProgress(value=0.0, max=2050.0), HTML(value='')))"
      ]
     },
     "metadata": {},
     "output_type": "display_data"
    },
    {
     "name": "stdout",
     "output_type": "stream",
     "text": [
      "\n"
     ]
    },
    {
     "data": {
      "application/vnd.jupyter.widget-view+json": {
       "model_id": "c0b1ff310af643c5b5bd80656c743074",
       "version_major": 2,
       "version_minor": 0
      },
      "text/plain": [
       "HBox(children=(HTML(value=''), FloatProgress(value=0.0, max=4688.0), HTML(value='')))"
      ]
     },
     "metadata": {},
     "output_type": "display_data"
    },
    {
     "name": "stdout",
     "output_type": "stream",
     "text": [
      "\n"
     ]
    },
    {
     "data": {
      "application/vnd.jupyter.widget-view+json": {
       "model_id": "b654faba7dd543148e87e592761c7df7",
       "version_major": 2,
       "version_minor": 0
      },
      "text/plain": [
       "HBox(children=(HTML(value=''), FloatProgress(value=0.0, max=232.0), HTML(value='')))"
      ]
     },
     "metadata": {},
     "output_type": "display_data"
    },
    {
     "name": "stdout",
     "output_type": "stream",
     "text": [
      "\n"
     ]
    },
    {
     "data": {
      "application/vnd.jupyter.widget-view+json": {
       "model_id": "d247efd8e7aa4e7dad5206df0814b3b6",
       "version_major": 2,
       "version_minor": 0
      },
      "text/plain": [
       "HBox(children=(HTML(value=''), FloatProgress(value=0.0, max=109.0), HTML(value='')))"
      ]
     },
     "metadata": {},
     "output_type": "display_data"
    },
    {
     "name": "stdout",
     "output_type": "stream",
     "text": [
      "\n"
     ]
    },
    {
     "data": {
      "application/vnd.jupyter.widget-view+json": {
       "model_id": "bb0b5cdd48e440cfadf0efd956fe1aff",
       "version_major": 2,
       "version_minor": 0
      },
      "text/plain": [
       "HBox(children=(HTML(value=''), FloatProgress(value=0.0, max=2111.0), HTML(value='')))"
      ]
     },
     "metadata": {},
     "output_type": "display_data"
    },
    {
     "name": "stdout",
     "output_type": "stream",
     "text": [
      "\n"
     ]
    },
    {
     "data": {
      "application/vnd.jupyter.widget-view+json": {
       "model_id": "1a1dccaf96ab4583ad467f348a6f63a2",
       "version_major": 2,
       "version_minor": 0
      },
      "text/plain": [
       "HBox(children=(HTML(value=''), FloatProgress(value=0.0, max=2198.0), HTML(value='')))"
      ]
     },
     "metadata": {},
     "output_type": "display_data"
    },
    {
     "name": "stdout",
     "output_type": "stream",
     "text": [
      "\n",
      "\n"
     ]
    }
   ],
   "source": [
    "\n",
    "#heatmap Generation\n",
    "\n",
    "def gen_heatmap(click_data, width, height, radius):\n",
    "    heatmap = np.zeros((height, width), dtype=np.int32)\n",
    "    mask = np.ones((height, width), dtype=np.int32)\n",
    "    \n",
    "    for x, y in tqdm(click_data):\n",
    "        Y, X = np.ogrid[:height, :width]\n",
    "        dist_from_center = np.sqrt((X - x)**2 + (Y-y)**2)\n",
    "        current_mask = dist_from_center < radius\n",
    "        heatmap[current_mask] = heatmap[current_mask] + mask[current_mask]\n",
    "        \n",
    "    return heatmap\n",
    "\n",
    "dimension = (1080,1920)\n",
    "\n",
    "number_of_clicks = 1000\n",
    "\n",
    "time_filter=df_eyetracking[\"time\"][0]\n",
    "\n",
    "#iterating over images and thier start and end time\n",
    "\n",
    "for idx, row in tqdm(df_cutting.iterrows(), total=len(df_cutting)):\n",
    "    image = row[\"ImagePath\"]\n",
    "    start_time = row[\"StartTime\"]\n",
    "    end_time = row[\"EndTime\"]\n",
    "    \n",
    "    df_tmp = df_eyetracking[(df_eyetracking[\"time\"] >= start_time) & (df_eyetracking[\"time\"] <= end_time)]\n",
    "    \n",
    "    #accepting only valid values form eye tracking data\n",
    "    \n",
    "    x_values_l = df_tmp[(df_tmp[\"l_valid\"] == 1) & (df_tmp[\"r_valid\"] == 1)][\"l_display_x\"].values\n",
    "    y_values_l = df_tmp[(df_tmp[\"l_valid\"] == 1) & (df_tmp[\"r_valid\"] == 1)] [\"l_display_y\"].values\n",
    "\n",
    "    x_values_r = df_tmp[(df_tmp[\"l_valid\"] == 1) & (df_tmp[\"r_valid\"] == 1)][\"r_display_x\"].values\n",
    "    y_values_r = df_tmp[(df_tmp[\"l_valid\"] == 1) & (df_tmp[\"r_valid\"] == 1)][\"r_display_y\"].values\n",
    "\n",
    "    #taking average of x_value_l,x_value_r\n",
    "    \n",
    "    x_values = [ int((x_l+x_r)/2.0) for (x_l, x_r) in zip(x_values_l, x_values_r)]\n",
    "    y_values = [ int((y_l+y_r)/2.0) for (y_l, y_r) in zip(y_values_l, y_values_r)] \n",
    "    #click data is average of both x and y coordinate for left eye and right eye\n",
    "\n",
    "    click_data = list(zip([int(x) for x in x_values], [int(y) for y in y_values]))\n",
    "    \n",
    "    #image = image.replace(\"./snippets/Final\",\"./snippets\")\n",
    "    imageName = image\n",
    "    image = PIL.Image.open(imageName)\n",
    "    w, h = image.size\n",
    "    heatmap= gen_heatmap(click_data, w, h, 50)\n",
    "    \n",
    "    \n",
    "    #perform gaussian blur\n",
    "    cmap = plt.cm.get_cmap(\"jet\") \n",
    "    heatmap = gaussian_filter(heatmap, sigma=5)\n",
    "    heatmap = cmap(heatmap)\n",
    "    plt.imshow(heatmap, cmap='jet', interpolation='nearest')\n",
    "    image.resize((h, w))\n",
    "    image = np.array(image)\n",
    "    heatmap=heatmap*255\n",
    "    heatmap=heatmap.astype(int)\n",
    "    heatmap_image =0.7*image + 0.3*heatmap\n",
    "    heatmap_image = heatmap_image\n",
    "    algorithm_name = imageName.split(\"/\")[-1]\n",
    "    image_name = f\"./{participant_name}/heatmap_{algorithm_name}\"\n",
    "    im = PIL.Image.fromarray(np.uint8(heatmap_image))\n",
    "    im.save(image_name)\n",
    "    plt.close('all')"
   ]
  },
  {
   "cell_type": "code",
   "execution_count": 4,
   "metadata": {},
   "outputs": [
    {
     "data": {
      "text/html": [
       "<div>\n",
       "<style scoped>\n",
       "    .dataframe tbody tr th:only-of-type {\n",
       "        vertical-align: middle;\n",
       "    }\n",
       "\n",
       "    .dataframe tbody tr th {\n",
       "        vertical-align: top;\n",
       "    }\n",
       "\n",
       "    .dataframe thead th {\n",
       "        text-align: right;\n",
       "    }\n",
       "</style>\n",
       "<table border=\"1\" class=\"dataframe\">\n",
       "  <thead>\n",
       "    <tr style=\"text-align: right;\">\n",
       "      <th></th>\n",
       "      <th>ImagePath</th>\n",
       "      <th>StartTime</th>\n",
       "      <th>EndTime</th>\n",
       "      <th>ImageTime</th>\n",
       "    </tr>\n",
       "  </thead>\n",
       "  <tbody>\n",
       "    <tr>\n",
       "      <th>0</th>\n",
       "      <td>./snippets/Final/ArraySum(CNL).png</td>\n",
       "      <td>2.209393</td>\n",
       "      <td>21.450616</td>\n",
       "      <td>19.241223</td>\n",
       "    </tr>\n",
       "    <tr>\n",
       "      <th>1</th>\n",
       "      <td>./snippets/Final/ArraySumresp(CNL).png</td>\n",
       "      <td>21.455601</td>\n",
       "      <td>47.884162</td>\n",
       "      <td>26.428561</td>\n",
       "    </tr>\n",
       "    <tr>\n",
       "      <th>2</th>\n",
       "      <td>./snippets/Final/BubbleSort(WIC).png</td>\n",
       "      <td>49.671287</td>\n",
       "      <td>78.149696</td>\n",
       "      <td>28.478409</td>\n",
       "    </tr>\n",
       "    <tr>\n",
       "      <th>3</th>\n",
       "      <td>./snippets/Final/BubbleSortresp(WIC).png</td>\n",
       "      <td>78.154684</td>\n",
       "      <td>207.010952</td>\n",
       "      <td>128.856268</td>\n",
       "    </tr>\n",
       "    <tr>\n",
       "      <th>4</th>\n",
       "      <td>./snippets/Final/NumberCheck(WOC).png</td>\n",
       "      <td>209.430845</td>\n",
       "      <td>223.678388</td>\n",
       "      <td>14.247543</td>\n",
       "    </tr>\n",
       "    <tr>\n",
       "      <th>5</th>\n",
       "      <td>./snippets/Final/NumberCheckresp(WOC).png</td>\n",
       "      <td>223.682376</td>\n",
       "      <td>262.228537</td>\n",
       "      <td>38.546161</td>\n",
       "    </tr>\n",
       "    <tr>\n",
       "      <th>6</th>\n",
       "      <td>./snippets/Final/ContainsSubstring(CNL).png</td>\n",
       "      <td>263.213113</td>\n",
       "      <td>291.690168</td>\n",
       "      <td>28.477055</td>\n",
       "    </tr>\n",
       "    <tr>\n",
       "      <th>7</th>\n",
       "      <td>./snippets/Final/ContainsSubstringresp(CNL).png</td>\n",
       "      <td>291.694190</td>\n",
       "      <td>306.693061</td>\n",
       "      <td>14.998871</td>\n",
       "    </tr>\n",
       "    <tr>\n",
       "      <th>8</th>\n",
       "      <td>./snippets/Final/Power(WIC).png</td>\n",
       "      <td>308.178412</td>\n",
       "      <td>320.608164</td>\n",
       "      <td>12.429752</td>\n",
       "    </tr>\n",
       "    <tr>\n",
       "      <th>9</th>\n",
       "      <td>./snippets/Final/Powerresp(WIC).png</td>\n",
       "      <td>320.612151</td>\n",
       "      <td>345.090010</td>\n",
       "      <td>24.477859</td>\n",
       "    </tr>\n",
       "    <tr>\n",
       "      <th>10</th>\n",
       "      <td>./snippets/Final/BinaryConversion(WOC).png</td>\n",
       "      <td>348.968121</td>\n",
       "      <td>374.257904</td>\n",
       "      <td>25.289783</td>\n",
       "    </tr>\n",
       "    <tr>\n",
       "      <th>11</th>\n",
       "      <td>./snippets/Final/BinaryConversionresp(WOC).png</td>\n",
       "      <td>374.261893</td>\n",
       "      <td>430.686776</td>\n",
       "      <td>56.424883</td>\n",
       "    </tr>\n",
       "    <tr>\n",
       "      <th>12</th>\n",
       "      <td>./snippets/Final/MultiplyMatrix(CNL).png</td>\n",
       "      <td>433.049001</td>\n",
       "      <td>435.905361</td>\n",
       "      <td>2.856360</td>\n",
       "    </tr>\n",
       "    <tr>\n",
       "      <th>13</th>\n",
       "      <td>./snippets/Final/MultiplyMatrixresp(CNL).png</td>\n",
       "      <td>435.910347</td>\n",
       "      <td>437.304618</td>\n",
       "      <td>1.394271</td>\n",
       "    </tr>\n",
       "    <tr>\n",
       "      <th>14</th>\n",
       "      <td>./snippets/Final/PrimeNumber(WIC).png</td>\n",
       "      <td>438.097978</td>\n",
       "      <td>465.418373</td>\n",
       "      <td>27.320395</td>\n",
       "    </tr>\n",
       "    <tr>\n",
       "      <th>15</th>\n",
       "      <td>./snippets/Final/PrimeNumberresp(WIC).png</td>\n",
       "      <td>465.422362</td>\n",
       "      <td>496.184398</td>\n",
       "      <td>30.762036</td>\n",
       "    </tr>\n",
       "  </tbody>\n",
       "</table>\n",
       "</div>"
      ],
      "text/plain": [
       "                                          ImagePath   StartTime     EndTime  \\\n",
       "0                ./snippets/Final/ArraySum(CNL).png    2.209393   21.450616   \n",
       "1            ./snippets/Final/ArraySumresp(CNL).png   21.455601   47.884162   \n",
       "2              ./snippets/Final/BubbleSort(WIC).png   49.671287   78.149696   \n",
       "3          ./snippets/Final/BubbleSortresp(WIC).png   78.154684  207.010952   \n",
       "4             ./snippets/Final/NumberCheck(WOC).png  209.430845  223.678388   \n",
       "5         ./snippets/Final/NumberCheckresp(WOC).png  223.682376  262.228537   \n",
       "6       ./snippets/Final/ContainsSubstring(CNL).png  263.213113  291.690168   \n",
       "7   ./snippets/Final/ContainsSubstringresp(CNL).png  291.694190  306.693061   \n",
       "8                   ./snippets/Final/Power(WIC).png  308.178412  320.608164   \n",
       "9               ./snippets/Final/Powerresp(WIC).png  320.612151  345.090010   \n",
       "10       ./snippets/Final/BinaryConversion(WOC).png  348.968121  374.257904   \n",
       "11   ./snippets/Final/BinaryConversionresp(WOC).png  374.261893  430.686776   \n",
       "12         ./snippets/Final/MultiplyMatrix(CNL).png  433.049001  435.905361   \n",
       "13     ./snippets/Final/MultiplyMatrixresp(CNL).png  435.910347  437.304618   \n",
       "14            ./snippets/Final/PrimeNumber(WIC).png  438.097978  465.418373   \n",
       "15        ./snippets/Final/PrimeNumberresp(WIC).png  465.422362  496.184398   \n",
       "\n",
       "     ImageTime  \n",
       "0    19.241223  \n",
       "1    26.428561  \n",
       "2    28.478409  \n",
       "3   128.856268  \n",
       "4    14.247543  \n",
       "5    38.546161  \n",
       "6    28.477055  \n",
       "7    14.998871  \n",
       "8    12.429752  \n",
       "9    24.477859  \n",
       "10   25.289783  \n",
       "11   56.424883  \n",
       "12    2.856360  \n",
       "13    1.394271  \n",
       "14   27.320395  \n",
       "15   30.762036  "
      ]
     },
     "execution_count": 4,
     "metadata": {},
     "output_type": "execute_result"
    }
   ],
   "source": [
    "df_cutting"
   ]
  },
  {
   "cell_type": "code",
   "execution_count": null,
   "metadata": {},
   "outputs": [],
   "source": []
  }
 ],
 "metadata": {
  "kernelspec": {
   "display_name": "Python 3",
   "language": "python",
   "name": "python3"
  },
  "language_info": {
   "codemirror_mode": {
    "name": "ipython",
    "version": 3
   },
   "file_extension": ".py",
   "mimetype": "text/x-python",
   "name": "python",
   "nbconvert_exporter": "python",
   "pygments_lexer": "ipython3",
   "version": "3.8.5"
  }
 },
 "nbformat": 4,
 "nbformat_minor": 4
}
